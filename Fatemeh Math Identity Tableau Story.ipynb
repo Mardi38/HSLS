{
 "cells": [
  {
   "cell_type": "markdown",
   "id": "9062b9e2",
   "metadata": {
    "azdata_cell_guid": "151601c9-ca7a-412e-af80-c62a87e0837e"
   },
   "source": [
    "# LaunchCode Data Analytics Capstone Project \n",
    "## Fatemeh Mardi (Sep 2021 cohort)\n",
    "\n",
    "I chose to work on a national data set from https://nces.ed.gov/surveys/hsls09/. The \"High School Longitudinal Study of 2009\" is a nationally representative, longitudinal study of 23,000+ 9th graders from 944 schools beginning in 2009.\n",
    "\n",
    "I narrowed down the variables in the data set to only include some descriptive data of the students (ID, sex, race, SES, math score) and four composite variables related to math learning (math identity, math utilitiy, math efficacy, and math interest).\n",
    "\n",
    "\n",
    "\n",
    "**Business issue:** There is more to math than just a score. While educators and administrators know this, the impact of influential factors on math achievement scores is not clear enough for action to take place.\n",
    "I want to explore public data collected from students across the nation to explore the constructs below and how they influence the math proficiency of students (across gender, race, and socio-economic status).\n",
    "\n",
    "\n",
    "## Getting Started and initial cleaning and run through of the data\n",
    "\n",
    "\n",
    "•\tStudent ID : unique identifier\n",
    "•\tSex X2SEX (1=male, 2=female)\n",
    "•\tRace X2RACE (1= Native, 2=Asian, 3=Black, 4&5=Hispanic, 6=More than one race, 7=Hawaiian/Pacific Islander, 8=White)\n",
    "•\tSES quintile X2SESQ5 (5= highest quintile)\n",
    "\n",
    "•\tMath score quintile X2TXMQUINT (5= highest)\n",
    "•\tMath identity X2MTHID (I am a math person.)\n",
    "•\tMath utility X2MTHUTI (Math is useful.)\n",
    "•\tMath efficacy X2MTHEFF (I am confident in my ability to do math.)\n",
    "•\tMath interest X2MTHINT (I am interested in and enjoy math.)\n"
   ]
  },
  {
   "cell_type": "code",
   "execution_count": 8,
   "id": "66c0b970",
   "metadata": {},
   "outputs": [
    {
     "data": {
      "text/html": [
       "<div>\n",
       "<style scoped>\n",
       "    .dataframe tbody tr th:only-of-type {\n",
       "        vertical-align: middle;\n",
       "    }\n",
       "\n",
       "    .dataframe tbody tr th {\n",
       "        vertical-align: top;\n",
       "    }\n",
       "\n",
       "    .dataframe thead th {\n",
       "        text-align: right;\n",
       "    }\n",
       "</style>\n",
       "<table border=\"1\" class=\"dataframe\">\n",
       "  <thead>\n",
       "    <tr style=\"text-align: right;\">\n",
       "      <th></th>\n",
       "      <th>STU_ID</th>\n",
       "      <th>X2SEX</th>\n",
       "      <th>X2RACE</th>\n",
       "      <th>X2SESQ5</th>\n",
       "      <th>X2TXMQUINT</th>\n",
       "      <th>X2MTHID</th>\n",
       "      <th>X2MTHUTI</th>\n",
       "      <th>X2MTHEFF</th>\n",
       "      <th>X2MTHINT_R</th>\n",
       "    </tr>\n",
       "  </thead>\n",
       "  <tbody>\n",
       "    <tr>\n",
       "      <th>0</th>\n",
       "      <td>10001</td>\n",
       "      <td>1</td>\n",
       "      <td>8</td>\n",
       "      <td>5</td>\n",
       "      <td>5</td>\n",
       "      <td>0.16</td>\n",
       "      <td>1.21</td>\n",
       "      <td>1.73</td>\n",
       "      <td>-0.21</td>\n",
       "    </tr>\n",
       "    <tr>\n",
       "      <th>1</th>\n",
       "      <td>10002</td>\n",
       "      <td>2</td>\n",
       "      <td>8</td>\n",
       "      <td>2</td>\n",
       "      <td>4</td>\n",
       "      <td>-0.42</td>\n",
       "      <td>-0.50</td>\n",
       "      <td>-0.70</td>\n",
       "      <td>-0.60</td>\n",
       "    </tr>\n",
       "    <tr>\n",
       "      <th>2</th>\n",
       "      <td>10003</td>\n",
       "      <td>2</td>\n",
       "      <td>3</td>\n",
       "      <td>5</td>\n",
       "      <td>4</td>\n",
       "      <td>-1.54</td>\n",
       "      <td>-0.90</td>\n",
       "      <td>-0.56</td>\n",
       "      <td>-1.39</td>\n",
       "    </tr>\n",
       "    <tr>\n",
       "      <th>3</th>\n",
       "      <td>10004</td>\n",
       "      <td>2</td>\n",
       "      <td>8</td>\n",
       "      <td>2</td>\n",
       "      <td>-8</td>\n",
       "      <td>-8.00</td>\n",
       "      <td>-8.00</td>\n",
       "      <td>-8.00</td>\n",
       "      <td>-8.00</td>\n",
       "    </tr>\n",
       "    <tr>\n",
       "      <th>4</th>\n",
       "      <td>10005</td>\n",
       "      <td>1</td>\n",
       "      <td>8</td>\n",
       "      <td>5</td>\n",
       "      <td>3</td>\n",
       "      <td>-9.00</td>\n",
       "      <td>-9.00</td>\n",
       "      <td>-9.00</td>\n",
       "      <td>-9.00</td>\n",
       "    </tr>\n",
       "    <tr>\n",
       "      <th>...</th>\n",
       "      <td>...</td>\n",
       "      <td>...</td>\n",
       "      <td>...</td>\n",
       "      <td>...</td>\n",
       "      <td>...</td>\n",
       "      <td>...</td>\n",
       "      <td>...</td>\n",
       "      <td>...</td>\n",
       "      <td>...</td>\n",
       "    </tr>\n",
       "    <tr>\n",
       "      <th>23498</th>\n",
       "      <td>35202</td>\n",
       "      <td>2</td>\n",
       "      <td>5</td>\n",
       "      <td>4</td>\n",
       "      <td>4</td>\n",
       "      <td>0.70</td>\n",
       "      <td>0.80</td>\n",
       "      <td>0.11</td>\n",
       "      <td>-7.00</td>\n",
       "    </tr>\n",
       "    <tr>\n",
       "      <th>23499</th>\n",
       "      <td>35203</td>\n",
       "      <td>2</td>\n",
       "      <td>5</td>\n",
       "      <td>1</td>\n",
       "      <td>3</td>\n",
       "      <td>-0.42</td>\n",
       "      <td>1.21</td>\n",
       "      <td>0.11</td>\n",
       "      <td>-0.60</td>\n",
       "    </tr>\n",
       "    <tr>\n",
       "      <th>23500</th>\n",
       "      <td>35204</td>\n",
       "      <td>2</td>\n",
       "      <td>8</td>\n",
       "      <td>3</td>\n",
       "      <td>3</td>\n",
       "      <td>-0.42</td>\n",
       "      <td>1.21</td>\n",
       "      <td>1.73</td>\n",
       "      <td>0.31</td>\n",
       "    </tr>\n",
       "    <tr>\n",
       "      <th>23501</th>\n",
       "      <td>35205</td>\n",
       "      <td>1</td>\n",
       "      <td>8</td>\n",
       "      <td>5</td>\n",
       "      <td>3</td>\n",
       "      <td>-1.54</td>\n",
       "      <td>-3.94</td>\n",
       "      <td>-1.30</td>\n",
       "      <td>-1.89</td>\n",
       "    </tr>\n",
       "    <tr>\n",
       "      <th>23502</th>\n",
       "      <td>35206</td>\n",
       "      <td>2</td>\n",
       "      <td>8</td>\n",
       "      <td>5</td>\n",
       "      <td>5</td>\n",
       "      <td>1.82</td>\n",
       "      <td>1.21</td>\n",
       "      <td>0.00</td>\n",
       "      <td>1.38</td>\n",
       "    </tr>\n",
       "  </tbody>\n",
       "</table>\n",
       "<p>23503 rows × 9 columns</p>\n",
       "</div>"
      ],
      "text/plain": [
       "       STU_ID  X2SEX  X2RACE  X2SESQ5  X2TXMQUINT  X2MTHID  X2MTHUTI  \\\n",
       "0       10001      1       8        5           5     0.16      1.21   \n",
       "1       10002      2       8        2           4    -0.42     -0.50   \n",
       "2       10003      2       3        5           4    -1.54     -0.90   \n",
       "3       10004      2       8        2          -8    -8.00     -8.00   \n",
       "4       10005      1       8        5           3    -9.00     -9.00   \n",
       "...       ...    ...     ...      ...         ...      ...       ...   \n",
       "23498   35202      2       5        4           4     0.70      0.80   \n",
       "23499   35203      2       5        1           3    -0.42      1.21   \n",
       "23500   35204      2       8        3           3    -0.42      1.21   \n",
       "23501   35205      1       8        5           3    -1.54     -3.94   \n",
       "23502   35206      2       8        5           5     1.82      1.21   \n",
       "\n",
       "       X2MTHEFF  X2MTHINT_R  \n",
       "0          1.73       -0.21  \n",
       "1         -0.70       -0.60  \n",
       "2         -0.56       -1.39  \n",
       "3         -8.00       -8.00  \n",
       "4         -9.00       -9.00  \n",
       "...         ...         ...  \n",
       "23498      0.11       -7.00  \n",
       "23499      0.11       -0.60  \n",
       "23500      1.73        0.31  \n",
       "23501     -1.30       -1.89  \n",
       "23502      0.00        1.38  \n",
       "\n",
       "[23503 rows x 9 columns]"
      ]
     },
     "execution_count": 8,
     "metadata": {},
     "output_type": "execute_result"
    }
   ],
   "source": [
    "#import libraries and packages\n",
    "import pandas as pd\n",
    "import numpy as np\n",
    "import matplotlib.pyplot as plt\n",
    "\n",
    "import seaborn as sns\n",
    "import matplotlib.mlab as mlab\n",
    "import matplotlib\n",
    "plt.style.use('ggplot')\n",
    "from matplotlib.pyplot import figure\n",
    "\n",
    "data = pd.read_csv(\"Math.csv\")\n",
    "data"
   ]
  },
  {
   "cell_type": "code",
   "execution_count": 2,
   "id": "8e277a2a",
   "metadata": {},
   "outputs": [
    {
     "name": "stdout",
     "output_type": "stream",
     "text": [
      "<class 'pandas.core.frame.DataFrame'>\n",
      "RangeIndex: 23503 entries, 0 to 23502\n",
      "Data columns (total 9 columns):\n",
      " #   Column      Non-Null Count  Dtype  \n",
      "---  ------      --------------  -----  \n",
      " 0   STU_ID      23503 non-null  int64  \n",
      " 1   X2SEX       23503 non-null  int64  \n",
      " 2   X2RACE      23503 non-null  int64  \n",
      " 3   X2SESQ5     23503 non-null  int64  \n",
      " 4   X2TXMQUINT  23503 non-null  int64  \n",
      " 5   X2MTHID     23503 non-null  float64\n",
      " 6   X2MTHUTI    23503 non-null  float64\n",
      " 7   X2MTHEFF    23503 non-null  float64\n",
      " 8   X2MTHINT_R  23503 non-null  float64\n",
      "dtypes: float64(4), int64(5)\n",
      "memory usage: 1.6 MB\n"
     ]
    }
   ],
   "source": [
    "data.describe()\n",
    "#describe for a summary of stats\n",
    "\n",
    "data.columns\n",
    "#to recall the exact spelling of each column\n",
    "\n",
    "data.shape\n",
    "#for the number of rows and columns\n",
    "\n",
    "data.info()\n",
    "#to check the data types of each column"
   ]
  },
  {
   "cell_type": "code",
   "execution_count": 3,
   "id": "ffe029fe",
   "metadata": {},
   "outputs": [
    {
     "data": {
      "text/html": [
       "<div>\n",
       "<style scoped>\n",
       "    .dataframe tbody tr th:only-of-type {\n",
       "        vertical-align: middle;\n",
       "    }\n",
       "\n",
       "    .dataframe tbody tr th {\n",
       "        vertical-align: top;\n",
       "    }\n",
       "\n",
       "    .dataframe thead th {\n",
       "        text-align: right;\n",
       "    }\n",
       "</style>\n",
       "<table border=\"1\" class=\"dataframe\">\n",
       "  <thead>\n",
       "    <tr style=\"text-align: right;\">\n",
       "      <th></th>\n",
       "      <th>STU_ID</th>\n",
       "      <th>X2SEX</th>\n",
       "      <th>X2RACE</th>\n",
       "      <th>X2SESQ5</th>\n",
       "      <th>X2TXMQUINT</th>\n",
       "      <th>X2MTHID</th>\n",
       "      <th>X2MTHUTI</th>\n",
       "      <th>X2MTHEFF</th>\n",
       "      <th>X2MTHINT_R</th>\n",
       "    </tr>\n",
       "  </thead>\n",
       "  <tbody>\n",
       "    <tr>\n",
       "      <th>0</th>\n",
       "      <td>10001</td>\n",
       "      <td>1</td>\n",
       "      <td>8</td>\n",
       "      <td>5</td>\n",
       "      <td>5</td>\n",
       "      <td>0.16</td>\n",
       "      <td>1.21</td>\n",
       "      <td>1.73</td>\n",
       "      <td>-0.21</td>\n",
       "    </tr>\n",
       "    <tr>\n",
       "      <th>1</th>\n",
       "      <td>10002</td>\n",
       "      <td>2</td>\n",
       "      <td>8</td>\n",
       "      <td>2</td>\n",
       "      <td>4</td>\n",
       "      <td>-0.42</td>\n",
       "      <td>-0.50</td>\n",
       "      <td>-0.70</td>\n",
       "      <td>-0.60</td>\n",
       "    </tr>\n",
       "    <tr>\n",
       "      <th>2</th>\n",
       "      <td>10003</td>\n",
       "      <td>2</td>\n",
       "      <td>3</td>\n",
       "      <td>5</td>\n",
       "      <td>4</td>\n",
       "      <td>-1.54</td>\n",
       "      <td>-0.90</td>\n",
       "      <td>-0.56</td>\n",
       "      <td>-1.39</td>\n",
       "    </tr>\n",
       "    <tr>\n",
       "      <th>3</th>\n",
       "      <td>10007</td>\n",
       "      <td>2</td>\n",
       "      <td>8</td>\n",
       "      <td>4</td>\n",
       "      <td>2</td>\n",
       "      <td>0.12</td>\n",
       "      <td>0.38</td>\n",
       "      <td>-1.09</td>\n",
       "      <td>-0.47</td>\n",
       "    </tr>\n",
       "    <tr>\n",
       "      <th>4</th>\n",
       "      <td>10009</td>\n",
       "      <td>1</td>\n",
       "      <td>8</td>\n",
       "      <td>4</td>\n",
       "      <td>5</td>\n",
       "      <td>0.70</td>\n",
       "      <td>-0.50</td>\n",
       "      <td>0.32</td>\n",
       "      <td>-1.25</td>\n",
       "    </tr>\n",
       "    <tr>\n",
       "      <th>...</th>\n",
       "      <td>...</td>\n",
       "      <td>...</td>\n",
       "      <td>...</td>\n",
       "      <td>...</td>\n",
       "      <td>...</td>\n",
       "      <td>...</td>\n",
       "      <td>...</td>\n",
       "      <td>...</td>\n",
       "      <td>...</td>\n",
       "    </tr>\n",
       "    <tr>\n",
       "      <th>16213</th>\n",
       "      <td>35200</td>\n",
       "      <td>1</td>\n",
       "      <td>8</td>\n",
       "      <td>5</td>\n",
       "      <td>5</td>\n",
       "      <td>1.82</td>\n",
       "      <td>0.80</td>\n",
       "      <td>1.73</td>\n",
       "      <td>2.17</td>\n",
       "    </tr>\n",
       "    <tr>\n",
       "      <th>16214</th>\n",
       "      <td>35203</td>\n",
       "      <td>2</td>\n",
       "      <td>5</td>\n",
       "      <td>1</td>\n",
       "      <td>3</td>\n",
       "      <td>-0.42</td>\n",
       "      <td>1.21</td>\n",
       "      <td>0.11</td>\n",
       "      <td>-0.60</td>\n",
       "    </tr>\n",
       "    <tr>\n",
       "      <th>16215</th>\n",
       "      <td>35204</td>\n",
       "      <td>2</td>\n",
       "      <td>8</td>\n",
       "      <td>3</td>\n",
       "      <td>3</td>\n",
       "      <td>-0.42</td>\n",
       "      <td>1.21</td>\n",
       "      <td>1.73</td>\n",
       "      <td>0.31</td>\n",
       "    </tr>\n",
       "    <tr>\n",
       "      <th>16216</th>\n",
       "      <td>35205</td>\n",
       "      <td>1</td>\n",
       "      <td>8</td>\n",
       "      <td>5</td>\n",
       "      <td>3</td>\n",
       "      <td>-1.54</td>\n",
       "      <td>-3.94</td>\n",
       "      <td>-1.30</td>\n",
       "      <td>-1.89</td>\n",
       "    </tr>\n",
       "    <tr>\n",
       "      <th>16217</th>\n",
       "      <td>35206</td>\n",
       "      <td>2</td>\n",
       "      <td>8</td>\n",
       "      <td>5</td>\n",
       "      <td>5</td>\n",
       "      <td>1.82</td>\n",
       "      <td>1.21</td>\n",
       "      <td>0.00</td>\n",
       "      <td>1.38</td>\n",
       "    </tr>\n",
       "  </tbody>\n",
       "</table>\n",
       "<p>16218 rows × 9 columns</p>\n",
       "</div>"
      ],
      "text/plain": [
       "       STU_ID  X2SEX  X2RACE  X2SESQ5  X2TXMQUINT  X2MTHID  X2MTHUTI  \\\n",
       "0       10001      1       8        5           5     0.16      1.21   \n",
       "1       10002      2       8        2           4    -0.42     -0.50   \n",
       "2       10003      2       3        5           4    -1.54     -0.90   \n",
       "3       10007      2       8        4           2     0.12      0.38   \n",
       "4       10009      1       8        4           5     0.70     -0.50   \n",
       "...       ...    ...     ...      ...         ...      ...       ...   \n",
       "16213   35200      1       8        5           5     1.82      0.80   \n",
       "16214   35203      2       5        1           3    -0.42      1.21   \n",
       "16215   35204      2       8        3           3    -0.42      1.21   \n",
       "16216   35205      1       8        5           3    -1.54     -3.94   \n",
       "16217   35206      2       8        5           5     1.82      1.21   \n",
       "\n",
       "       X2MTHEFF  X2MTHINT_R  \n",
       "0          1.73       -0.21  \n",
       "1         -0.70       -0.60  \n",
       "2         -0.56       -1.39  \n",
       "3         -1.09       -0.47  \n",
       "4          0.32       -1.25  \n",
       "...         ...         ...  \n",
       "16213      1.73        2.17  \n",
       "16214      0.11       -0.60  \n",
       "16215      1.73        0.31  \n",
       "16216     -1.30       -1.89  \n",
       "16217      0.00        1.38  \n",
       "\n",
       "[16218 rows x 9 columns]"
      ]
     },
     "execution_count": 3,
     "metadata": {},
     "output_type": "execute_result"
    }
   ],
   "source": [
    "#-8 not respond, -9 is missing ==> needs cleaning\n",
    "#I need to do this for all five variables. INT also has (-7) that needs cleaning.\n",
    "#I chose to create a for loop.\n",
    "\n",
    "\n",
    "cols=['X2MTHID', 'X2MTHUTI', 'X2MTHEFF', 'X2MTHINT_R']\n",
    "data1= data\n",
    "for col in cols: \n",
    "    data1=data1[data1[col] != -7]\n",
    "    data1=data1[data1[col] != -8]\n",
    "    data1=data1[data1[col] != -9]\n",
    "data1\n",
    "\n",
    "#now the dataset does not have any missing/skipped items. 23503 --> 16218 rows\n",
    "\n",
    "\n",
    "#to reset the number of rows (first column)\n",
    "data1.reset_index(drop=True, inplace=True)\n",
    "data1\n",
    "#data1 is cleaned."
   ]
  },
  {
   "cell_type": "code",
   "execution_count": 4,
   "id": "0a5be2e3",
   "metadata": {},
   "outputs": [
    {
     "data": {
      "text/html": [
       "<div>\n",
       "<style scoped>\n",
       "    .dataframe tbody tr th:only-of-type {\n",
       "        vertical-align: middle;\n",
       "    }\n",
       "\n",
       "    .dataframe tbody tr th {\n",
       "        vertical-align: top;\n",
       "    }\n",
       "\n",
       "    .dataframe thead th {\n",
       "        text-align: right;\n",
       "    }\n",
       "</style>\n",
       "<table border=\"1\" class=\"dataframe\">\n",
       "  <thead>\n",
       "    <tr style=\"text-align: right;\">\n",
       "      <th></th>\n",
       "      <th>STU_ID</th>\n",
       "      <th>X2SEX</th>\n",
       "      <th>X2RACE</th>\n",
       "      <th>X2SESQ5</th>\n",
       "      <th>X2TXMQUINT</th>\n",
       "      <th>X2MTHID</th>\n",
       "      <th>X2MTHUTI</th>\n",
       "      <th>X2MTHEFF</th>\n",
       "      <th>X2MTHINT_R</th>\n",
       "    </tr>\n",
       "  </thead>\n",
       "  <tbody>\n",
       "    <tr>\n",
       "      <th>2</th>\n",
       "      <td>10003</td>\n",
       "      <td>2</td>\n",
       "      <td>3</td>\n",
       "      <td>5</td>\n",
       "      <td>4</td>\n",
       "      <td>-1.54</td>\n",
       "      <td>-0.90</td>\n",
       "      <td>-0.56</td>\n",
       "      <td>-1.39</td>\n",
       "    </tr>\n",
       "    <tr>\n",
       "      <th>15</th>\n",
       "      <td>10026</td>\n",
       "      <td>2</td>\n",
       "      <td>2</td>\n",
       "      <td>2</td>\n",
       "      <td>5</td>\n",
       "      <td>-0.42</td>\n",
       "      <td>0.80</td>\n",
       "      <td>-0.35</td>\n",
       "      <td>0.96</td>\n",
       "    </tr>\n",
       "    <tr>\n",
       "      <th>19</th>\n",
       "      <td>10031</td>\n",
       "      <td>2</td>\n",
       "      <td>3</td>\n",
       "      <td>3</td>\n",
       "      <td>1</td>\n",
       "      <td>0.70</td>\n",
       "      <td>-0.09</td>\n",
       "      <td>-0.79</td>\n",
       "      <td>-0.19</td>\n",
       "    </tr>\n",
       "    <tr>\n",
       "      <th>22</th>\n",
       "      <td>10039</td>\n",
       "      <td>2</td>\n",
       "      <td>2</td>\n",
       "      <td>4</td>\n",
       "      <td>1</td>\n",
       "      <td>1.82</td>\n",
       "      <td>1.21</td>\n",
       "      <td>0.32</td>\n",
       "      <td>0.48</td>\n",
       "    </tr>\n",
       "    <tr>\n",
       "      <th>27</th>\n",
       "      <td>10049</td>\n",
       "      <td>2</td>\n",
       "      <td>5</td>\n",
       "      <td>4</td>\n",
       "      <td>5</td>\n",
       "      <td>1.82</td>\n",
       "      <td>1.21</td>\n",
       "      <td>0.32</td>\n",
       "      <td>1.38</td>\n",
       "    </tr>\n",
       "    <tr>\n",
       "      <th>...</th>\n",
       "      <td>...</td>\n",
       "      <td>...</td>\n",
       "      <td>...</td>\n",
       "      <td>...</td>\n",
       "      <td>...</td>\n",
       "      <td>...</td>\n",
       "      <td>...</td>\n",
       "      <td>...</td>\n",
       "      <td>...</td>\n",
       "    </tr>\n",
       "    <tr>\n",
       "      <th>16205</th>\n",
       "      <td>35191</td>\n",
       "      <td>2</td>\n",
       "      <td>3</td>\n",
       "      <td>2</td>\n",
       "      <td>1</td>\n",
       "      <td>-1.54</td>\n",
       "      <td>1.21</td>\n",
       "      <td>0.11</td>\n",
       "      <td>-0.60</td>\n",
       "    </tr>\n",
       "    <tr>\n",
       "      <th>16206</th>\n",
       "      <td>35193</td>\n",
       "      <td>2</td>\n",
       "      <td>5</td>\n",
       "      <td>3</td>\n",
       "      <td>3</td>\n",
       "      <td>0.70</td>\n",
       "      <td>0.13</td>\n",
       "      <td>0.32</td>\n",
       "      <td>0.19</td>\n",
       "    </tr>\n",
       "    <tr>\n",
       "      <th>16209</th>\n",
       "      <td>35196</td>\n",
       "      <td>2</td>\n",
       "      <td>5</td>\n",
       "      <td>4</td>\n",
       "      <td>4</td>\n",
       "      <td>-1.54</td>\n",
       "      <td>-0.50</td>\n",
       "      <td>0.32</td>\n",
       "      <td>-0.85</td>\n",
       "    </tr>\n",
       "    <tr>\n",
       "      <th>16212</th>\n",
       "      <td>35199</td>\n",
       "      <td>2</td>\n",
       "      <td>5</td>\n",
       "      <td>1</td>\n",
       "      <td>1</td>\n",
       "      <td>0.16</td>\n",
       "      <td>0.80</td>\n",
       "      <td>0.18</td>\n",
       "      <td>0.96</td>\n",
       "    </tr>\n",
       "    <tr>\n",
       "      <th>16214</th>\n",
       "      <td>35203</td>\n",
       "      <td>2</td>\n",
       "      <td>5</td>\n",
       "      <td>1</td>\n",
       "      <td>3</td>\n",
       "      <td>-0.42</td>\n",
       "      <td>1.21</td>\n",
       "      <td>0.11</td>\n",
       "      <td>-0.60</td>\n",
       "    </tr>\n",
       "  </tbody>\n",
       "</table>\n",
       "<p>3519 rows × 9 columns</p>\n",
       "</div>"
      ],
      "text/plain": [
       "       STU_ID  X2SEX  X2RACE  X2SESQ5  X2TXMQUINT  X2MTHID  X2MTHUTI  \\\n",
       "2       10003      2       3        5           4    -1.54     -0.90   \n",
       "15      10026      2       2        2           5    -0.42      0.80   \n",
       "19      10031      2       3        3           1     0.70     -0.09   \n",
       "22      10039      2       2        4           1     1.82      1.21   \n",
       "27      10049      2       5        4           5     1.82      1.21   \n",
       "...       ...    ...     ...      ...         ...      ...       ...   \n",
       "16205   35191      2       3        2           1    -1.54      1.21   \n",
       "16206   35193      2       5        3           3     0.70      0.13   \n",
       "16209   35196      2       5        4           4    -1.54     -0.50   \n",
       "16212   35199      2       5        1           1     0.16      0.80   \n",
       "16214   35203      2       5        1           3    -0.42      1.21   \n",
       "\n",
       "       X2MTHEFF  X2MTHINT_R  \n",
       "2         -0.56       -1.39  \n",
       "15        -0.35        0.96  \n",
       "19        -0.79       -0.19  \n",
       "22         0.32        0.48  \n",
       "27         0.32        1.38  \n",
       "...         ...         ...  \n",
       "16205      0.11       -0.60  \n",
       "16206      0.32        0.19  \n",
       "16209      0.32       -0.85  \n",
       "16212      0.18        0.96  \n",
       "16214      0.11       -0.60  \n",
       "\n",
       "[3519 rows x 9 columns]"
      ]
     },
     "execution_count": 4,
     "metadata": {},
     "output_type": "execute_result"
    }
   ],
   "source": [
    "#I want to filter these students sex=2 female, race= 1-7 (non-dominant)\n",
    "#Show the mean of these \"identity, utility, efficacy, and interest\" > 0\n",
    "\n",
    "\n",
    "df_fnondom = data1[(data1['X2SEX']==2) & (data1['X2RACE'] != 8)]\n",
    "df_fnondom\n",
    "\n",
    "#3519 non-dominant females as a subgroup\n",
    "#created a df called df_fnondom = non-dominant females."
   ]
  },
  {
   "cell_type": "code",
   "execution_count": 5,
   "id": "cf4e9250",
   "metadata": {},
   "outputs": [
    {
     "data": {
      "text/html": [
       "<div>\n",
       "<style scoped>\n",
       "    .dataframe tbody tr th:only-of-type {\n",
       "        vertical-align: middle;\n",
       "    }\n",
       "\n",
       "    .dataframe tbody tr th {\n",
       "        vertical-align: top;\n",
       "    }\n",
       "\n",
       "    .dataframe thead th {\n",
       "        text-align: right;\n",
       "    }\n",
       "</style>\n",
       "<table border=\"1\" class=\"dataframe\">\n",
       "  <thead>\n",
       "    <tr style=\"text-align: right;\">\n",
       "      <th></th>\n",
       "      <th>STU_ID</th>\n",
       "      <th>X2SEX</th>\n",
       "      <th>X2SESQ5</th>\n",
       "      <th>X2TXMQUINT</th>\n",
       "      <th>X2MTHID</th>\n",
       "      <th>X2MTHUTI</th>\n",
       "      <th>X2MTHEFF</th>\n",
       "      <th>X2MTHINT_R</th>\n",
       "    </tr>\n",
       "    <tr>\n",
       "      <th>X2RACE</th>\n",
       "      <th></th>\n",
       "      <th></th>\n",
       "      <th></th>\n",
       "      <th></th>\n",
       "      <th></th>\n",
       "      <th></th>\n",
       "      <th></th>\n",
       "      <th></th>\n",
       "    </tr>\n",
       "  </thead>\n",
       "  <tbody>\n",
       "    <tr>\n",
       "      <th>5</th>\n",
       "      <td>1213</td>\n",
       "      <td>1213</td>\n",
       "      <td>1213</td>\n",
       "      <td>1213</td>\n",
       "      <td>1213</td>\n",
       "      <td>1213</td>\n",
       "      <td>1213</td>\n",
       "      <td>1213</td>\n",
       "    </tr>\n",
       "    <tr>\n",
       "      <th>3</th>\n",
       "      <td>753</td>\n",
       "      <td>753</td>\n",
       "      <td>753</td>\n",
       "      <td>753</td>\n",
       "      <td>753</td>\n",
       "      <td>753</td>\n",
       "      <td>753</td>\n",
       "      <td>753</td>\n",
       "    </tr>\n",
       "    <tr>\n",
       "      <th>2</th>\n",
       "      <td>712</td>\n",
       "      <td>712</td>\n",
       "      <td>712</td>\n",
       "      <td>712</td>\n",
       "      <td>712</td>\n",
       "      <td>712</td>\n",
       "      <td>712</td>\n",
       "      <td>712</td>\n",
       "    </tr>\n",
       "    <tr>\n",
       "      <th>6</th>\n",
       "      <td>704</td>\n",
       "      <td>704</td>\n",
       "      <td>704</td>\n",
       "      <td>704</td>\n",
       "      <td>704</td>\n",
       "      <td>704</td>\n",
       "      <td>704</td>\n",
       "      <td>704</td>\n",
       "    </tr>\n",
       "    <tr>\n",
       "      <th>4</th>\n",
       "      <td>51</td>\n",
       "      <td>51</td>\n",
       "      <td>51</td>\n",
       "      <td>51</td>\n",
       "      <td>51</td>\n",
       "      <td>51</td>\n",
       "      <td>51</td>\n",
       "      <td>51</td>\n",
       "    </tr>\n",
       "    <tr>\n",
       "      <th>1</th>\n",
       "      <td>49</td>\n",
       "      <td>49</td>\n",
       "      <td>49</td>\n",
       "      <td>49</td>\n",
       "      <td>49</td>\n",
       "      <td>49</td>\n",
       "      <td>49</td>\n",
       "      <td>49</td>\n",
       "    </tr>\n",
       "    <tr>\n",
       "      <th>7</th>\n",
       "      <td>37</td>\n",
       "      <td>37</td>\n",
       "      <td>37</td>\n",
       "      <td>37</td>\n",
       "      <td>37</td>\n",
       "      <td>37</td>\n",
       "      <td>37</td>\n",
       "      <td>37</td>\n",
       "    </tr>\n",
       "  </tbody>\n",
       "</table>\n",
       "</div>"
      ],
      "text/plain": [
       "        STU_ID  X2SEX  X2SESQ5  X2TXMQUINT  X2MTHID  X2MTHUTI  X2MTHEFF  \\\n",
       "X2RACE                                                                    \n",
       "5         1213   1213     1213        1213     1213      1213      1213   \n",
       "3          753    753      753         753      753       753       753   \n",
       "2          712    712      712         712      712       712       712   \n",
       "6          704    704      704         704      704       704       704   \n",
       "4           51     51       51          51       51        51        51   \n",
       "1           49     49       49          49       49        49        49   \n",
       "7           37     37       37          37       37        37        37   \n",
       "\n",
       "        X2MTHINT_R  \n",
       "X2RACE              \n",
       "5             1213  \n",
       "3              753  \n",
       "2              712  \n",
       "6              704  \n",
       "4               51  \n",
       "1               49  \n",
       "7               37  "
      ]
     },
     "execution_count": 5,
     "metadata": {},
     "output_type": "execute_result"
    }
   ],
   "source": [
    "#What is the distribution of the on-dominant females groups's race 1-7?\n",
    "#groupby category of race, and counted the number of Stu ID\n",
    "\n",
    "df_fnondom.groupby(['X2RACE']).count().sort_values(by=['STU_ID'], ascending = False)\n",
    "\n",
    "\n",
    "#df.sort_values(by=['col1'])\n",
    "#Sorted StuID to show values descending order"
   ]
  },
  {
   "cell_type": "code",
   "execution_count": 6,
   "id": "e9963b77",
   "metadata": {},
   "outputs": [
    {
     "data": {
      "text/plain": [
       "STU_ID        22849.803922\n",
       "X2SEX             2.000000\n",
       "X2RACE            4.115942\n",
       "X2SESQ5           3.076158\n",
       "X2TXMQUINT        3.216823\n",
       "X2MTHID           0.031444\n",
       "X2MTHUTI          0.056221\n",
       "X2MTHEFF          0.027366\n",
       "X2MTHINT_R        0.089952\n",
       "dtype: float64"
      ]
     },
     "execution_count": 6,
     "metadata": {},
     "output_type": "execute_result"
    }
   ],
   "source": [
    "df_fnondom.mean()\n",
    "#just exploring, looking for to get an idea of their overall SES and score first."
   ]
  },
  {
   "cell_type": "code",
   "execution_count": 7,
   "id": "a52004c5",
   "metadata": {},
   "outputs": [
    {
     "data": {
      "text/plain": [
       "61.949417448138675"
      ]
     },
     "execution_count": 7,
     "metadata": {},
     "output_type": "execute_result"
    }
   ],
   "source": [
    "#analyzing SES: What percentage of the non-dominant females, average or above in their math scores?\n",
    "\n",
    "dfSES = df_fnondom.groupby(['X2SESQ5']).count().sort_values(by=['STU_ID'], ascending = False)\n",
    "\n",
    "#3,4,5 = % of total --> SES ?% average and above \n",
    "\n",
    "100*len(df_fnondom[df_fnondom['X2SESQ5']>2])/len(df_fnondom)\n",
    "#Claim = 61.95% of them are average or above average"
   ]
  },
  {
   "cell_type": "markdown",
   "id": "a9c57260",
   "metadata": {
    "azdata_cell_guid": "151601c9-ca7a-412e-af80-c62a87e0837e"
   },
   "source": [
    "## Procedural cleaning of the data and noticing outliers\n",
    "\n",
    "\n",
    "•\tMissing Data\n",
    "•\tIrregular Data (detecting outliers)\n",
    "•   Unnecessary Data\n",
    "•   Inconsistent Data\n"
   ]
  },
  {
   "cell_type": "code",
   "execution_count": 9,
   "id": "9c600a97",
   "metadata": {},
   "outputs": [
    {
     "data": {
      "text/html": [
       "<div>\n",
       "<style scoped>\n",
       "    .dataframe tbody tr th:only-of-type {\n",
       "        vertical-align: middle;\n",
       "    }\n",
       "\n",
       "    .dataframe tbody tr th {\n",
       "        vertical-align: top;\n",
       "    }\n",
       "\n",
       "    .dataframe thead th {\n",
       "        text-align: right;\n",
       "    }\n",
       "</style>\n",
       "<table border=\"1\" class=\"dataframe\">\n",
       "  <thead>\n",
       "    <tr style=\"text-align: right;\">\n",
       "      <th></th>\n",
       "      <th>Unnamed: 0</th>\n",
       "      <th>STU_ID</th>\n",
       "      <th>X2SEX</th>\n",
       "      <th>X2RACE</th>\n",
       "      <th>X2SESQ5</th>\n",
       "      <th>X2TXMQUINT</th>\n",
       "      <th>X2MTHID</th>\n",
       "      <th>X2MTHUTI</th>\n",
       "      <th>X2MTHEFF</th>\n",
       "      <th>X2MTHINT_R</th>\n",
       "    </tr>\n",
       "  </thead>\n",
       "  <tbody>\n",
       "    <tr>\n",
       "      <th>0</th>\n",
       "      <td>0</td>\n",
       "      <td>10001</td>\n",
       "      <td>1</td>\n",
       "      <td>8</td>\n",
       "      <td>5</td>\n",
       "      <td>5</td>\n",
       "      <td>0.16</td>\n",
       "      <td>1.21</td>\n",
       "      <td>1.73</td>\n",
       "      <td>-0.21</td>\n",
       "    </tr>\n",
       "    <tr>\n",
       "      <th>1</th>\n",
       "      <td>1</td>\n",
       "      <td>10002</td>\n",
       "      <td>2</td>\n",
       "      <td>8</td>\n",
       "      <td>2</td>\n",
       "      <td>4</td>\n",
       "      <td>-0.42</td>\n",
       "      <td>-0.50</td>\n",
       "      <td>-0.70</td>\n",
       "      <td>-0.60</td>\n",
       "    </tr>\n",
       "    <tr>\n",
       "      <th>2</th>\n",
       "      <td>2</td>\n",
       "      <td>10003</td>\n",
       "      <td>2</td>\n",
       "      <td>3</td>\n",
       "      <td>5</td>\n",
       "      <td>4</td>\n",
       "      <td>-1.54</td>\n",
       "      <td>-0.90</td>\n",
       "      <td>-0.56</td>\n",
       "      <td>-1.39</td>\n",
       "    </tr>\n",
       "    <tr>\n",
       "      <th>3</th>\n",
       "      <td>3</td>\n",
       "      <td>10007</td>\n",
       "      <td>2</td>\n",
       "      <td>8</td>\n",
       "      <td>4</td>\n",
       "      <td>2</td>\n",
       "      <td>0.12</td>\n",
       "      <td>0.38</td>\n",
       "      <td>-1.09</td>\n",
       "      <td>-0.47</td>\n",
       "    </tr>\n",
       "    <tr>\n",
       "      <th>4</th>\n",
       "      <td>4</td>\n",
       "      <td>10009</td>\n",
       "      <td>1</td>\n",
       "      <td>8</td>\n",
       "      <td>4</td>\n",
       "      <td>5</td>\n",
       "      <td>0.70</td>\n",
       "      <td>-0.50</td>\n",
       "      <td>0.32</td>\n",
       "      <td>-1.25</td>\n",
       "    </tr>\n",
       "    <tr>\n",
       "      <th>...</th>\n",
       "      <td>...</td>\n",
       "      <td>...</td>\n",
       "      <td>...</td>\n",
       "      <td>...</td>\n",
       "      <td>...</td>\n",
       "      <td>...</td>\n",
       "      <td>...</td>\n",
       "      <td>...</td>\n",
       "      <td>...</td>\n",
       "      <td>...</td>\n",
       "    </tr>\n",
       "    <tr>\n",
       "      <th>16213</th>\n",
       "      <td>16213</td>\n",
       "      <td>35200</td>\n",
       "      <td>1</td>\n",
       "      <td>8</td>\n",
       "      <td>5</td>\n",
       "      <td>5</td>\n",
       "      <td>1.82</td>\n",
       "      <td>0.80</td>\n",
       "      <td>1.73</td>\n",
       "      <td>2.17</td>\n",
       "    </tr>\n",
       "    <tr>\n",
       "      <th>16214</th>\n",
       "      <td>16214</td>\n",
       "      <td>35203</td>\n",
       "      <td>2</td>\n",
       "      <td>5</td>\n",
       "      <td>1</td>\n",
       "      <td>3</td>\n",
       "      <td>-0.42</td>\n",
       "      <td>1.21</td>\n",
       "      <td>0.11</td>\n",
       "      <td>-0.60</td>\n",
       "    </tr>\n",
       "    <tr>\n",
       "      <th>16215</th>\n",
       "      <td>16215</td>\n",
       "      <td>35204</td>\n",
       "      <td>2</td>\n",
       "      <td>8</td>\n",
       "      <td>3</td>\n",
       "      <td>3</td>\n",
       "      <td>-0.42</td>\n",
       "      <td>1.21</td>\n",
       "      <td>1.73</td>\n",
       "      <td>0.31</td>\n",
       "    </tr>\n",
       "    <tr>\n",
       "      <th>16216</th>\n",
       "      <td>16216</td>\n",
       "      <td>35205</td>\n",
       "      <td>1</td>\n",
       "      <td>8</td>\n",
       "      <td>5</td>\n",
       "      <td>3</td>\n",
       "      <td>-1.54</td>\n",
       "      <td>-3.94</td>\n",
       "      <td>-1.30</td>\n",
       "      <td>-1.89</td>\n",
       "    </tr>\n",
       "    <tr>\n",
       "      <th>16217</th>\n",
       "      <td>16217</td>\n",
       "      <td>35206</td>\n",
       "      <td>2</td>\n",
       "      <td>8</td>\n",
       "      <td>5</td>\n",
       "      <td>5</td>\n",
       "      <td>1.82</td>\n",
       "      <td>1.21</td>\n",
       "      <td>0.00</td>\n",
       "      <td>1.38</td>\n",
       "    </tr>\n",
       "  </tbody>\n",
       "</table>\n",
       "<p>16218 rows × 10 columns</p>\n",
       "</div>"
      ],
      "text/plain": [
       "       Unnamed: 0  STU_ID  X2SEX  X2RACE  X2SESQ5  X2TXMQUINT  X2MTHID  \\\n",
       "0               0   10001      1       8        5           5     0.16   \n",
       "1               1   10002      2       8        2           4    -0.42   \n",
       "2               2   10003      2       3        5           4    -1.54   \n",
       "3               3   10007      2       8        4           2     0.12   \n",
       "4               4   10009      1       8        4           5     0.70   \n",
       "...           ...     ...    ...     ...      ...         ...      ...   \n",
       "16213       16213   35200      1       8        5           5     1.82   \n",
       "16214       16214   35203      2       5        1           3    -0.42   \n",
       "16215       16215   35204      2       8        3           3    -0.42   \n",
       "16216       16216   35205      1       8        5           3    -1.54   \n",
       "16217       16217   35206      2       8        5           5     1.82   \n",
       "\n",
       "       X2MTHUTI  X2MTHEFF  X2MTHINT_R  \n",
       "0          1.21      1.73       -0.21  \n",
       "1         -0.50     -0.70       -0.60  \n",
       "2         -0.90     -0.56       -1.39  \n",
       "3          0.38     -1.09       -0.47  \n",
       "4         -0.50      0.32       -1.25  \n",
       "...         ...       ...         ...  \n",
       "16213      0.80      1.73        2.17  \n",
       "16214      1.21      0.11       -0.60  \n",
       "16215      1.21      1.73        0.31  \n",
       "16216     -3.94     -1.30       -1.89  \n",
       "16217      1.21      0.00        1.38  \n",
       "\n",
       "[16218 rows x 10 columns]"
      ]
     },
     "execution_count": 9,
     "metadata": {},
     "output_type": "execute_result"
    }
   ],
   "source": [
    "# read the data\n",
    "df = pd.read_csv('cleanmath.csv')\n",
    "df"
   ]
  },
  {
   "cell_type": "code",
   "execution_count": 10,
   "id": "4789e38e",
   "metadata": {},
   "outputs": [
    {
     "data": {
      "text/plain": [
       "<AxesSubplot:xlabel='index'>"
      ]
     },
     "execution_count": 10,
     "metadata": {},
     "output_type": "execute_result"
    },
    {
     "data": {
      "image/png": "[encoded data removed]",
      "text/plain": [
       "<Figure size 432x288 with 1 Axes>"
      ]
     },
     "metadata": {},
     "output_type": "display_data"
    }
   ],
   "source": [
    "#Missing Data\n",
    "# first create missing indicator for features with missing data\n",
    "for col in df.columns:\n",
    "    missing = df[col].isnull()\n",
    "    num_missing = np.sum(missing)\n",
    "    \n",
    "    if num_missing > 0:  \n",
    "        print('created missing indicator for: {}'.format(col))\n",
    "        df['{}_ismissing'.format(col)] = missing\n",
    "\n",
    "\n",
    "# then based on the indicator, plot the histogram of missing values\n",
    "ismissing_cols = [col for col in df.columns if 'ismissing' in col]\n",
    "df['num_missing'] = df[ismissing_cols].sum(axis=1)\n",
    "\n",
    "df['num_missing'].value_counts().reset_index().sort_values(by='index').plot.bar(x='index', y='num_missing')"
   ]
  },
  {
   "cell_type": "code",
   "execution_count": 11,
   "id": "3e9ced02",
   "metadata": {},
   "outputs": [
    {
     "name": "stdout",
     "output_type": "stream",
     "text": [
      "Unnamed: 0 - 0%\n",
      "STU_ID - 0%\n",
      "X2SEX - 0%\n",
      "X2RACE - 0%\n",
      "X2SESQ5 - 0%\n",
      "X2TXMQUINT - 0%\n",
      "X2MTHID - 0%\n",
      "X2MTHUTI - 0%\n",
      "X2MTHEFF - 0%\n",
      "X2MTHINT_R - 0%\n",
      "num_missing - 0%\n"
     ]
    }
   ],
   "source": [
    "#Irregular data\n",
    "# if it's a larger dataset and the visualization takes too long can do this.\n",
    "# % of missing.\n",
    "for col in df.columns:\n",
    "    pct_missing = np.mean(df[col].isnull())\n",
    "    print('{} - {}%'.format(col, round(pct_missing*100)))"
   ]
  },
  {
   "cell_type": "code",
   "execution_count": 13,
   "id": "c5f5fd28",
   "metadata": {},
   "outputs": [],
   "source": [
    "#Unnecessary Data\n",
    "#I took almost all of the columns of the original dataset.\n",
    "#There was a lot of unnecesary data that I removed for this project (in the first section)."
   ]
  },
  {
   "cell_type": "code",
   "execution_count": 14,
   "id": "04ced3ad",
   "metadata": {},
   "outputs": [
    {
     "data": {
      "text/plain": [
       "<AxesSubplot:>"
      ]
     },
     "execution_count": 14,
     "metadata": {},
     "output_type": "execute_result"
    },
    {
     "data": {
      "image/png": "[encoded data removed]",
      "text/plain": [
       "<Figure size 432x288 with 1 Axes>"
      ]
     },
     "metadata": {},
     "output_type": "display_data"
    }
   ],
   "source": [
    "#Inconsistent Data\n",
    "\n",
    "# histogram Variable 1 Math Identity\n",
    "df['X2MTHID'].hist(bins=100)"
   ]
  },
  {
   "cell_type": "code",
   "execution_count": 15,
   "id": "3d46ba6f",
   "metadata": {},
   "outputs": [
    {
     "data": {
      "text/plain": [
       "<AxesSubplot:>"
      ]
     },
     "execution_count": 15,
     "metadata": {},
     "output_type": "execute_result"
    },
    {
     "data": {
      "image/png": "[encoded data removed]",
      "text/plain": [
       "<Figure size 432x288 with 1 Axes>"
      ]
     },
     "metadata": {},
     "output_type": "display_data"
    }
   ],
   "source": [
    "# box plot Varibale 1 Math Identity\n",
    "df.boxplot(column=['X2MTHID'])"
   ]
  },
  {
   "cell_type": "code",
   "execution_count": 16,
   "id": "37345e7c",
   "metadata": {},
   "outputs": [
    {
     "data": {
      "text/plain": [
       "<AxesSubplot:>"
      ]
     },
     "execution_count": 16,
     "metadata": {},
     "output_type": "execute_result"
    },
    {
     "data": {
      "image/png": "[encoded data removed]",
      "text/plain": [
       "<Figure size 432x288 with 1 Axes>"
      ]
     },
     "metadata": {},
     "output_type": "display_data"
    }
   ],
   "source": [
    "# histogram Variable 2 Math Efficacy\n",
    "df['X2MTHEFF'].hist(bins=100)\n",
    "\n",
    "#noticing a clear skew"
   ]
  },
  {
   "cell_type": "code",
   "execution_count": 17,
   "id": "19b8877a",
   "metadata": {},
   "outputs": [
    {
     "data": {
      "text/plain": [
       "<AxesSubplot:>"
      ]
     },
     "execution_count": 17,
     "metadata": {},
     "output_type": "execute_result"
    },
    {
     "data": {
      "image/png": "[encoded data removed]",
      "text/plain": [
       "<Figure size 432x288 with 1 Axes>"
      ]
     },
     "metadata": {},
     "output_type": "display_data"
    }
   ],
   "source": [
    "# box plot Variable 2 Math Efficacy\n",
    "df.boxplot(column=['X2MTHEFF'])\n",
    "\n",
    "#The outliers are clear here as well."
   ]
  },
  {
   "cell_type": "code",
   "execution_count": 18,
   "id": "a83e941d",
   "metadata": {},
   "outputs": [
    {
     "data": {
      "text/plain": [
       "<AxesSubplot:>"
      ]
     },
     "execution_count": 18,
     "metadata": {},
     "output_type": "execute_result"
    },
    {
     "data": {
      "image/png": "[encoded data removed]",
      "text/plain": [
       "<Figure size 432x288 with 1 Axes>"
      ]
     },
     "metadata": {},
     "output_type": "display_data"
    }
   ],
   "source": [
    "# histogram Variable 3 Math Utility\n",
    "df['X2MTHUTI'].hist(bins=100)\n",
    "\n",
    "#noticing bimodal shape"
   ]
  },
  {
   "cell_type": "code",
   "execution_count": 19,
   "id": "24f38425",
   "metadata": {},
   "outputs": [
    {
     "data": {
      "text/plain": [
       "<AxesSubplot:>"
      ]
     },
     "execution_count": 19,
     "metadata": {},
     "output_type": "execute_result"
    },
    {
     "data": {
      "image/png": "[encoded data removed]",
      "text/plain": [
       "<Figure size 432x288 with 1 Axes>"
      ]
     },
     "metadata": {},
     "output_type": "display_data"
    }
   ],
   "source": [
    "# box plot Variable 3 Math Utility\n",
    "df.boxplot(column=['X2MTHUTI'])\n",
    "\n",
    "#clear outliers on the negative side"
   ]
  },
  {
   "cell_type": "code",
   "execution_count": 20,
   "id": "9c689b1d",
   "metadata": {},
   "outputs": [
    {
     "data": {
      "text/plain": [
       "<AxesSubplot:>"
      ]
     },
     "execution_count": 20,
     "metadata": {},
     "output_type": "execute_result"
    },
    {
     "data": {
      "image/png": "[encoded data removed]",
      "text/plain": [
       "<Figure size 432x288 with 1 Axes>"
      ]
     },
     "metadata": {},
     "output_type": "display_data"
    }
   ],
   "source": [
    "# histogram Variable 4 Math Interest\n",
    "df['X2MTHINT_R'].hist(bins=100)\n",
    "\n",
    "#The two ends aren't as low as a normal distrubition might have. That interests me."
   ]
  },
  {
   "cell_type": "code",
   "execution_count": 21,
   "id": "2392f680",
   "metadata": {},
   "outputs": [
    {
     "data": {
      "text/plain": [
       "<AxesSubplot:>"
      ]
     },
     "execution_count": 21,
     "metadata": {},
     "output_type": "execute_result"
    },
    {
     "data": {
      "image/png": "[encoded data removed]",
      "text/plain": [
       "<Figure size 432x288 with 1 Axes>"
      ]
     },
     "metadata": {},
     "output_type": "display_data"
    }
   ],
   "source": [
    "# box plot Variable 4 Math Interest\n",
    "df.boxplot(column=['X2MTHINT_R'])"
   ]
  },
  {
   "cell_type": "markdown",
   "id": "25e75511",
   "metadata": {
    "azdata_cell_guid": "151601c9-ca7a-412e-af80-c62a87e0837e"
   },
   "source": [
    "## Modeling data (predictive analysis): Correlations and linear regression models\n",
    "\n",
    "\n",
    "•\tThe pairplots are not suitable for this data, but I left them in for future reference.\n",
    "\n",
    "•\tThe heatmaps show the correlations visually. \n",
    "\n",
    "•   The boxplot was the most helpful in visually revealing two groups of outliers.\n",
    "\n",
    "•   The barplots need to be further examined.\n"
   ]
  },
  {
   "cell_type": "code",
   "execution_count": 23,
   "id": "27ea6d46",
   "metadata": {},
   "outputs": [
    {
     "data": {
      "image/png": "[encoded data removed]",
      "text/plain": [
       "<Figure size 1152x288 with 4 Axes>"
      ]
     },
     "metadata": {},
     "output_type": "display_data"
    }
   ],
   "source": [
    "sns.pairplot(df, x_vars=['X2MTHID', 'X2MTHUTI','X2MTHEFF', 'X2MTHINT_R'], \n",
    "             y_vars='X2TXMQUINT', height=4, aspect=1, kind='scatter')\n",
    "plt.show()"
   ]
  },
  {
   "cell_type": "code",
   "execution_count": 24,
   "id": "67a8756a",
   "metadata": {},
   "outputs": [
    {
     "data": {
      "image/png": "[encoded data removed]",
      "text/plain": [
       "<Figure size 432x288 with 2 Axes>"
      ]
     },
     "metadata": {},
     "output_type": "display_data"
    }
   ],
   "source": [
    "sns.heatmap(df.corr(), cmap=\"YlGnBu\", annot = True)\n",
    "plt.show()\n",
    "\n",
    "#0.62 = identity and interest *\n",
    "#0.56 = identity and efficacy *\n",
    "#0.43 = identity and utility\n",
    "#0.40 = identity and score\n",
    "\n",
    "#0.34 = score and SES\n",
    "#0.58 = efficacy and interest *"
   ]
  },
  {
   "cell_type": "code",
   "execution_count": 25,
   "id": "f74e6bb3",
   "metadata": {},
   "outputs": [
    {
     "data": {
      "image/png": "[encoded data removed]",
      "text/plain": [
       "<Figure size 432x288 with 1 Axes>"
      ]
     },
     "metadata": {},
     "output_type": "display_data"
    }
   ],
   "source": [
    "ax = sns.boxplot(x='X2MTHID', y='X2TXMQUINT', data=df)\n",
    "\n",
    "#Pairplots were not giving me any information. So I chose to show my categorical data (score quintiles)\n",
    "#using a boxplot and a barplot."
   ]
  },
  {
   "cell_type": "code",
   "execution_count": 26,
   "id": "eed0db24",
   "metadata": {},
   "outputs": [
    {
     "data": {
      "text/plain": [
       "<AxesSubplot:xlabel='X2MTHID', ylabel='X2TXMQUINT'>"
      ]
     },
     "execution_count": 26,
     "metadata": {},
     "output_type": "execute_result"
    },
    {
     "data": {
      "image/png": "[encoded data removed]",
      "text/plain": [
       "<Figure size 432x288 with 1 Axes>"
      ]
     },
     "metadata": {},
     "output_type": "display_data"
    }
   ],
   "source": [
    "sns.barplot(x='X2MTHID',y='X2TXMQUINT',data=df)\n",
    "\n",
    "#look into barplot to see what it's actually revealing."
   ]
  },
  {
   "cell_type": "code",
   "execution_count": 27,
   "id": "b641ae29",
   "metadata": {},
   "outputs": [
    {
     "data": {
      "text/html": [
       "<div>\n",
       "<style scoped>\n",
       "    .dataframe tbody tr th:only-of-type {\n",
       "        vertical-align: middle;\n",
       "    }\n",
       "\n",
       "    .dataframe tbody tr th {\n",
       "        vertical-align: top;\n",
       "    }\n",
       "\n",
       "    .dataframe thead th {\n",
       "        text-align: right;\n",
       "    }\n",
       "</style>\n",
       "<table border=\"1\" class=\"dataframe\">\n",
       "  <thead>\n",
       "    <tr style=\"text-align: right;\">\n",
       "      <th></th>\n",
       "      <th>Unnamed: 0</th>\n",
       "      <th>STU_ID</th>\n",
       "      <th>X2SEX</th>\n",
       "      <th>X2RACE</th>\n",
       "      <th>X2SESQ5</th>\n",
       "      <th>X2TXMQUINT</th>\n",
       "      <th>X2MTHID</th>\n",
       "      <th>X2MTHUTI</th>\n",
       "      <th>X2MTHEFF</th>\n",
       "      <th>X2MTHINT_R</th>\n",
       "      <th>num_missing</th>\n",
       "    </tr>\n",
       "  </thead>\n",
       "  <tbody>\n",
       "    <tr>\n",
       "      <th>22</th>\n",
       "      <td>22</td>\n",
       "      <td>10039</td>\n",
       "      <td>2</td>\n",
       "      <td>2</td>\n",
       "      <td>4</td>\n",
       "      <td>1</td>\n",
       "      <td>1.82</td>\n",
       "      <td>1.21</td>\n",
       "      <td>0.32</td>\n",
       "      <td>0.48</td>\n",
       "      <td>0.0</td>\n",
       "    </tr>\n",
       "    <tr>\n",
       "      <th>70</th>\n",
       "      <td>70</td>\n",
       "      <td>10121</td>\n",
       "      <td>1</td>\n",
       "      <td>6</td>\n",
       "      <td>5</td>\n",
       "      <td>2</td>\n",
       "      <td>1.28</td>\n",
       "      <td>1.21</td>\n",
       "      <td>0.91</td>\n",
       "      <td>1.11</td>\n",
       "      <td>0.0</td>\n",
       "    </tr>\n",
       "    <tr>\n",
       "      <th>115</th>\n",
       "      <td>115</td>\n",
       "      <td>10192</td>\n",
       "      <td>1</td>\n",
       "      <td>7</td>\n",
       "      <td>2</td>\n",
       "      <td>2</td>\n",
       "      <td>1.82</td>\n",
       "      <td>1.21</td>\n",
       "      <td>1.73</td>\n",
       "      <td>1.75</td>\n",
       "      <td>0.0</td>\n",
       "    </tr>\n",
       "    <tr>\n",
       "      <th>253</th>\n",
       "      <td>253</td>\n",
       "      <td>10402</td>\n",
       "      <td>1</td>\n",
       "      <td>3</td>\n",
       "      <td>5</td>\n",
       "      <td>1</td>\n",
       "      <td>1.82</td>\n",
       "      <td>0.38</td>\n",
       "      <td>1.73</td>\n",
       "      <td>0.22</td>\n",
       "      <td>0.0</td>\n",
       "    </tr>\n",
       "    <tr>\n",
       "      <th>342</th>\n",
       "      <td>342</td>\n",
       "      <td>10543</td>\n",
       "      <td>1</td>\n",
       "      <td>8</td>\n",
       "      <td>2</td>\n",
       "      <td>2</td>\n",
       "      <td>1.82</td>\n",
       "      <td>1.21</td>\n",
       "      <td>1.73</td>\n",
       "      <td>1.77</td>\n",
       "      <td>0.0</td>\n",
       "    </tr>\n",
       "    <tr>\n",
       "      <th>...</th>\n",
       "      <td>...</td>\n",
       "      <td>...</td>\n",
       "      <td>...</td>\n",
       "      <td>...</td>\n",
       "      <td>...</td>\n",
       "      <td>...</td>\n",
       "      <td>...</td>\n",
       "      <td>...</td>\n",
       "      <td>...</td>\n",
       "      <td>...</td>\n",
       "      <td>...</td>\n",
       "    </tr>\n",
       "    <tr>\n",
       "      <th>15938</th>\n",
       "      <td>15938</td>\n",
       "      <td>34773</td>\n",
       "      <td>1</td>\n",
       "      <td>5</td>\n",
       "      <td>3</td>\n",
       "      <td>2</td>\n",
       "      <td>1.28</td>\n",
       "      <td>0.16</td>\n",
       "      <td>0.32</td>\n",
       "      <td>0.71</td>\n",
       "      <td>0.0</td>\n",
       "    </tr>\n",
       "    <tr>\n",
       "      <th>16031</th>\n",
       "      <td>16031</td>\n",
       "      <td>34928</td>\n",
       "      <td>2</td>\n",
       "      <td>8</td>\n",
       "      <td>1</td>\n",
       "      <td>1</td>\n",
       "      <td>1.28</td>\n",
       "      <td>1.21</td>\n",
       "      <td>0.96</td>\n",
       "      <td>1.10</td>\n",
       "      <td>0.0</td>\n",
       "    </tr>\n",
       "    <tr>\n",
       "      <th>16076</th>\n",
       "      <td>16076</td>\n",
       "      <td>34997</td>\n",
       "      <td>1</td>\n",
       "      <td>3</td>\n",
       "      <td>4</td>\n",
       "      <td>1</td>\n",
       "      <td>1.82</td>\n",
       "      <td>1.21</td>\n",
       "      <td>1.03</td>\n",
       "      <td>1.10</td>\n",
       "      <td>0.0</td>\n",
       "    </tr>\n",
       "    <tr>\n",
       "      <th>16079</th>\n",
       "      <td>16079</td>\n",
       "      <td>35005</td>\n",
       "      <td>2</td>\n",
       "      <td>2</td>\n",
       "      <td>4</td>\n",
       "      <td>2</td>\n",
       "      <td>1.28</td>\n",
       "      <td>-0.09</td>\n",
       "      <td>0.58</td>\n",
       "      <td>0.96</td>\n",
       "      <td>0.0</td>\n",
       "    </tr>\n",
       "    <tr>\n",
       "      <th>16099</th>\n",
       "      <td>16099</td>\n",
       "      <td>35036</td>\n",
       "      <td>1</td>\n",
       "      <td>8</td>\n",
       "      <td>3</td>\n",
       "      <td>2</td>\n",
       "      <td>1.82</td>\n",
       "      <td>1.21</td>\n",
       "      <td>1.73</td>\n",
       "      <td>-0.19</td>\n",
       "      <td>0.0</td>\n",
       "    </tr>\n",
       "  </tbody>\n",
       "</table>\n",
       "<p>204 rows × 11 columns</p>\n",
       "</div>"
      ],
      "text/plain": [
       "       Unnamed: 0  STU_ID  X2SEX  X2RACE  X2SESQ5  X2TXMQUINT  X2MTHID  \\\n",
       "22             22   10039      2       2        4           1     1.82   \n",
       "70             70   10121      1       6        5           2     1.28   \n",
       "115           115   10192      1       7        2           2     1.82   \n",
       "253           253   10402      1       3        5           1     1.82   \n",
       "342           342   10543      1       8        2           2     1.82   \n",
       "...           ...     ...    ...     ...      ...         ...      ...   \n",
       "15938       15938   34773      1       5        3           2     1.28   \n",
       "16031       16031   34928      2       8        1           1     1.28   \n",
       "16076       16076   34997      1       3        4           1     1.82   \n",
       "16079       16079   35005      2       2        4           2     1.28   \n",
       "16099       16099   35036      1       8        3           2     1.82   \n",
       "\n",
       "       X2MTHUTI  X2MTHEFF  X2MTHINT_R  num_missing  \n",
       "22         1.21      0.32        0.48          0.0  \n",
       "70         1.21      0.91        1.11          0.0  \n",
       "115        1.21      1.73        1.75          0.0  \n",
       "253        0.38      1.73        0.22          0.0  \n",
       "342        1.21      1.73        1.77          0.0  \n",
       "...         ...       ...         ...          ...  \n",
       "15938      0.16      0.32        0.71          0.0  \n",
       "16031      1.21      0.96        1.10          0.0  \n",
       "16076      1.21      1.03        1.10          0.0  \n",
       "16079     -0.09      0.58        0.96          0.0  \n",
       "16099      1.21      1.73       -0.19          0.0  \n",
       "\n",
       "[204 rows x 11 columns]"
      ]
     },
     "execution_count": 27,
     "metadata": {},
     "output_type": "execute_result"
    }
   ],
   "source": [
    "#The outliers caught my attention, so I created a subset to show the low performing, high math identoty group.\n",
    "\n",
    "\n",
    "#HighConfidence == 'X2MTHID'>= 1.28 and y='X2TXMQUINT'<=2\n",
    "\n",
    "#df_HC = df['HighConfidence']\n",
    "#how to create a subset\n",
    "\n",
    "df_HC = df[(df['X2MTHID']>=1.28) & (df['X2TXMQUINT'] <= 2)]\n",
    "df_HC\n",
    "\n",
    "#We created a 20 subset of falsely confident folks"
   ]
  },
  {
   "cell_type": "markdown",
   "id": "90623405",
   "metadata": {
    "azdata_cell_guid": "b75b6098-4152-4701-9136-a8f774c8583e"
   },
   "source": [
    "## Creating my linear regression model\n",
    "\n",
    "I used the two columns with the strongest correlation to create and train the model. \n",
    "0.62 = identity and interest *\n",
    "As I am looking for ways to increase math identity of students and find contributins factors, identity is the y."
   ]
  },
  {
   "cell_type": "code",
   "execution_count": 28,
   "id": "a6862b8e",
   "metadata": {},
   "outputs": [],
   "source": [
    "X = df['X2MTHINT_R']\n",
    "y = df['X2MTHID']\n",
    "\n",
    "from sklearn.model_selection import train_test_split\n",
    "X_train, X_test, y_train, y_test = train_test_split(X, y, train_size = 0.7, \n",
    "                                                    test_size = 0.3, random_state = 100)"
   ]
  },
  {
   "cell_type": "code",
   "execution_count": 29,
   "id": "95cac552",
   "metadata": {},
   "outputs": [
    {
     "data": {
      "text/plain": [
       "const         0.069459\n",
       "X2MTHINT_R    0.615343\n",
       "dtype: float64"
      ]
     },
     "execution_count": 29,
     "metadata": {},
     "output_type": "execute_result"
    }
   ],
   "source": [
    "import statsmodels.api as sm\n",
    "\n",
    "# Adding a constant to get an intercept\n",
    "X_train_sm = sm.add_constant(X_train)\n",
    "\n",
    "\n",
    "lr = sm.OLS(y_train, X_train_sm).fit()\n",
    "\n",
    "# Printing the parameters\n",
    "lr.params\n",
    "\n",
    "#the constant is 0.069459 and the coefficient is 0.615343."
   ]
  },
  {
   "cell_type": "code",
   "execution_count": 30,
   "id": "65c8b80a",
   "metadata": {},
   "outputs": [
    {
     "data": {
      "text/html": [
       "<table class=\"simpletable\">\n",
       "<caption>OLS Regression Results</caption>\n",
       "<tr>\n",
       "  <th>Dep. Variable:</th>         <td>X2MTHID</td>     <th>  R-squared:         </th> <td>   0.374</td> \n",
       "</tr>\n",
       "<tr>\n",
       "  <th>Model:</th>                   <td>OLS</td>       <th>  Adj. R-squared:    </th> <td>   0.373</td> \n",
       "</tr>\n",
       "<tr>\n",
       "  <th>Method:</th>             <td>Least Squares</td>  <th>  F-statistic:       </th> <td>   6767.</td> \n",
       "</tr>\n",
       "<tr>\n",
       "  <th>Date:</th>             <td>Fri, 25 Feb 2022</td> <th>  Prob (F-statistic):</th>  <td>  0.00</td>  \n",
       "</tr>\n",
       "<tr>\n",
       "  <th>Time:</th>                 <td>14:01:44</td>     <th>  Log-Likelihood:    </th> <td> -13663.</td> \n",
       "</tr>\n",
       "<tr>\n",
       "  <th>No. Observations:</th>      <td> 11352</td>      <th>  AIC:               </th> <td>2.733e+04</td>\n",
       "</tr>\n",
       "<tr>\n",
       "  <th>Df Residuals:</th>          <td> 11350</td>      <th>  BIC:               </th> <td>2.734e+04</td>\n",
       "</tr>\n",
       "<tr>\n",
       "  <th>Df Model:</th>              <td>     1</td>      <th>                     </th>     <td> </td>    \n",
       "</tr>\n",
       "<tr>\n",
       "  <th>Covariance Type:</th>      <td>nonrobust</td>    <th>                     </th>     <td> </td>    \n",
       "</tr>\n",
       "</table>\n",
       "<table class=\"simpletable\">\n",
       "<tr>\n",
       "       <td></td>         <th>coef</th>     <th>std err</th>      <th>t</th>      <th>P>|t|</th>  <th>[0.025</th>    <th>0.975]</th>  \n",
       "</tr>\n",
       "<tr>\n",
       "  <th>const</th>      <td>    0.0695</td> <td>    0.008</td> <td>    9.177</td> <td> 0.000</td> <td>    0.055</td> <td>    0.084</td>\n",
       "</tr>\n",
       "<tr>\n",
       "  <th>X2MTHINT_R</th> <td>    0.6153</td> <td>    0.007</td> <td>   82.263</td> <td> 0.000</td> <td>    0.601</td> <td>    0.630</td>\n",
       "</tr>\n",
       "</table>\n",
       "<table class=\"simpletable\">\n",
       "<tr>\n",
       "  <th>Omnibus:</th>       <td> 1.087</td> <th>  Durbin-Watson:     </th> <td>   2.024</td>\n",
       "</tr>\n",
       "<tr>\n",
       "  <th>Prob(Omnibus):</th> <td> 0.581</td> <th>  Jarque-Bera (JB):  </th> <td>   1.070</td>\n",
       "</tr>\n",
       "<tr>\n",
       "  <th>Skew:</th>          <td> 0.023</td> <th>  Prob(JB):          </th> <td>   0.586</td>\n",
       "</tr>\n",
       "<tr>\n",
       "  <th>Kurtosis:</th>      <td> 3.010</td> <th>  Cond. No.          </th> <td>    1.02</td>\n",
       "</tr>\n",
       "</table><br/><br/>Notes:<br/>[1] Standard Errors assume that the covariance matrix of the errors is correctly specified."
      ],
      "text/plain": [
       "<class 'statsmodels.iolib.summary.Summary'>\n",
       "\"\"\"\n",
       "                            OLS Regression Results                            \n",
       "==============================================================================\n",
       "Dep. Variable:                X2MTHID   R-squared:                       0.374\n",
       "Model:                            OLS   Adj. R-squared:                  0.373\n",
       "Method:                 Least Squares   F-statistic:                     6767.\n",
       "Date:                Fri, 25 Feb 2022   Prob (F-statistic):               0.00\n",
       "Time:                        14:01:44   Log-Likelihood:                -13663.\n",
       "No. Observations:               11352   AIC:                         2.733e+04\n",
       "Df Residuals:                   11350   BIC:                         2.734e+04\n",
       "Df Model:                           1                                         \n",
       "Covariance Type:            nonrobust                                         \n",
       "==============================================================================\n",
       "                 coef    std err          t      P>|t|      [0.025      0.975]\n",
       "------------------------------------------------------------------------------\n",
       "const          0.0695      0.008      9.177      0.000       0.055       0.084\n",
       "X2MTHINT_R     0.6153      0.007     82.263      0.000       0.601       0.630\n",
       "==============================================================================\n",
       "Omnibus:                        1.087   Durbin-Watson:                   2.024\n",
       "Prob(Omnibus):                  0.581   Jarque-Bera (JB):                1.070\n",
       "Skew:                           0.023   Prob(JB):                        0.586\n",
       "Kurtosis:                       3.010   Cond. No.                         1.02\n",
       "==============================================================================\n",
       "\n",
       "Notes:\n",
       "[1] Standard Errors assume that the covariance matrix of the errors is correctly specified.\n",
       "\"\"\""
      ]
     },
     "execution_count": 30,
     "metadata": {},
     "output_type": "execute_result"
    }
   ],
   "source": [
    "lr.summary()\n",
    "#Notice the R-Squared, Fstatistic, and p value."
   ]
  },
  {
   "cell_type": "code",
   "execution_count": 31,
   "id": "f4620b73",
   "metadata": {},
   "outputs": [
    {
     "data": {
      "image/png": "[encoded data removed]",
      "text/plain": [
       "<Figure size 432x288 with 1 Axes>"
      ]
     },
     "metadata": {},
     "output_type": "display_data"
    }
   ],
   "source": [
    "# Visualizing the regression line\n",
    "plt.scatter(X_train, y_train)\n",
    "plt.plot(X_train, 0.069459 + 0.615343*X_train, 'r')\n",
    "plt.show()"
   ]
  },
  {
   "cell_type": "markdown",
   "id": "d9443105",
   "metadata": {
    "azdata_cell_guid": "c021f50d-92b2-4359-b3a9-c47f62f0a94f"
   },
   "source": [
    "## Error Terms\n"
   ]
  },
  {
   "cell_type": "code",
   "execution_count": 32,
   "id": "22dc2e98",
   "metadata": {},
   "outputs": [
    {
     "data": {
      "text/plain": [
       "<Figure size 432x288 with 0 Axes>"
      ]
     },
     "metadata": {},
     "output_type": "display_data"
    },
    {
     "data": {
      "image/png": "[encoded data removed]",
      "text/plain": [
       "<Figure size 360x360 with 1 Axes>"
      ]
     },
     "metadata": {},
     "output_type": "display_data"
    }
   ],
   "source": [
    "y_train_pred = lr.predict(X_train_sm)\n",
    "\n",
    "# Creating residuals from the y_train data and predicted y_data\n",
    "res = (y_train - y_train_pred)\n",
    "\n",
    "# Plotting the histogram using the residual values\n",
    "fig = plt.figure()\n",
    "sns.displot(res, bins = 15)\n",
    "plt.title('Error Terms', fontsize = 15)\n",
    "plt.xlabel('y_train - y_train_pred', fontsize = 15)\n",
    "plt.show()\n",
    "\n",
    "#Having the errors in a normal distribution is good."
   ]
  },
  {
   "cell_type": "code",
   "execution_count": 33,
   "id": "4d71fdc7",
   "metadata": {},
   "outputs": [
    {
     "data": {
      "image/png": "[encoded data removed]",
      "text/plain": [
       "<Figure size 432x288 with 1 Axes>"
      ]
     },
     "metadata": {},
     "output_type": "display_data"
    }
   ],
   "source": [
    "# Looking for any patterns in the residuals\n",
    "plt.scatter(X_train,res)\n",
    "plt.show()\n",
    "\n",
    "#Having such clear patterns is not optimal."
   ]
  },
  {
   "cell_type": "code",
   "execution_count": null,
   "id": "c7f709d7",
   "metadata": {},
   "outputs": [],
   "source": []
  },
  {
   "cell_type": "markdown",
   "id": "8d330b26",
   "metadata": {
    "azdata_cell_guid": "c021f50d-92b2-4359-b3a9-c47f62f0a94f"
   },
   "source": [
    "## Multiple linear regression\n",
    "\n",
    "My R-squared value is 0.374. \n",
    "\n",
    "Considering the high correlation among these three variables, I think a multiple linear regression would be more effective.\n",
    "0.62 = identity and interest *\n",
    "0.56 = identity and efficacy *\n",
    "0.58 = efficacy and interest *"
   ]
  },
  {
   "cell_type": "code",
   "execution_count": 34,
   "id": "757cfe11",
   "metadata": {},
   "outputs": [
    {
     "name": "stdout",
     "output_type": "stream",
     "text": [
      "0.04619677633019906\n",
      "[0.44037172 0.31747315]\n"
     ]
    }
   ],
   "source": [
    "#https://towardsdatascience.com/simple-and-multiple-linear-regression-with-python-c9ab422ec29c\n",
    "\n",
    "from sklearn.linear_model import LinearRegression\n",
    "\n",
    "# create linear regression object\n",
    "mlr = LinearRegression()\n",
    "\n",
    "# fit linear regression\n",
    "Z = df[['X2MTHINT_R', 'X2MTHEFF']]\n",
    "#mlr.fit(df[['X2MTHINT_R', 'X2MTHEFF']], df['X2MTHID'])\n",
    "mlr.fit(df[['X2MTHINT_R', 'X2MTHEFF']], df['X2MTHID'])\n",
    "\n",
    "\n",
    "# get the slope and intercept of the line best fit.\n",
    "print(mlr.intercept_)\n",
    "\n",
    "print(mlr.coef_)\n",
    "\n",
    "#Identity = 0.04619677633019906 + 0.44037172*interest + 0.31747315*efficacy"
   ]
  },
  {
   "cell_type": "code",
   "execution_count": 36,
   "id": "4fd78a1d",
   "metadata": {},
   "outputs": [
    {
     "name": "stderr",
     "output_type": "stream",
     "text": [
      "C:\\Users\\fhfk6.UM-AD\\Anaconda3\\lib\\site-packages\\seaborn\\distributions.py:2557: FutureWarning: `distplot` is a deprecated function and will be removed in a future version. Please adapt your code to use either `displot` (a figure-level function with similar flexibility) or `kdeplot` (an axes-level function for kernel density plots).\n",
      "  warnings.warn(msg, FutureWarning)\n",
      "C:\\Users\\fhfk6.UM-AD\\Anaconda3\\lib\\site-packages\\seaborn\\distributions.py:2557: FutureWarning: `distplot` is a deprecated function and will be removed in a future version. Please adapt your code to use either `displot` (a figure-level function with similar flexibility) or `kdeplot` (an axes-level function for kernel density plots).\n",
      "  warnings.warn(msg, FutureWarning)\n"
     ]
    },
    {
     "data": {
      "image/png": "[encoded data removed]",
      "text/plain": [
       "<Figure size 432x288 with 1 Axes>"
      ]
     },
     "metadata": {},
     "output_type": "display_data"
    }
   ],
   "source": [
    "#from p. 82 of https://docs.google.com/document/d/1vd91W7lqKFxkwLDhj_Zr71ZUPpgZbTC6bauH6sjU-1U/edit\n",
    "\n",
    "Y_hat = mlr.predict(Z)\n",
    "\n",
    "plt.figure\n",
    "\n",
    "ax1 = sns.distplot(df['X2MTHID'], hist=False, color=\"r\", label=\"Actual value\")\n",
    "sns.distplot(Y_hat, hist=False, color=\"b\", label=\"Fitted values\", ax=ax1)\n",
    "\n",
    "plt.title('Actual vs. Fitted values')\n",
    "plt.xlabel('Identity')\n",
    "plt.ylabel('Interest and efficacy')\n",
    "\n",
    "plt.show()\n",
    "plt.close()"
   ]
  },
  {
   "cell_type": "code",
   "execution_count": 37,
   "id": "b9313831",
   "metadata": {},
   "outputs": [
    {
     "name": "stdout",
     "output_type": "stream",
     "text": [
      "0.44193161845459183\n"
     ]
    }
   ],
   "source": [
    "mlr.fit(Z, df['X2MTHID'])\n",
    "print(mlr.score(Z, df['X2MTHID']))"
   ]
  },
  {
   "cell_type": "markdown",
   "id": "8f4bee6a",
   "metadata": {
    "azdata_cell_guid": "c021f50d-92b2-4359-b3a9-c47f62f0a94f"
   },
   "source": [
    "## Modeling results\n",
    "\n",
    "My R-squared increased from 37% to 44% by including one more factor.\n",
    "\n",
    "This means that a larger amount of my y (identity) is accounted for by my x (interest and efficacy).\n",
    "\n",
    "Through factor analyis and field research, more analysis needs to be done to identofy contributing factors to student math idenity."
   ]
  }
 ],
 "metadata": {
  "kernelspec": {
   "display_name": "Python 3",
   "language": "python",
   "name": "python3"
  },
  "language_info": {
   "codemirror_mode": {
    "name": "ipython",
    "version": 3
   },
   "file_extension": ".py",
   "mimetype": "text/x-python",
   "name": "python",
   "nbconvert_exporter": "python",
   "pygments_lexer": "ipython3",
   "version": "3.8.8"
  }
 },
 "nbformat": 4,
 "nbformat_minor": 5
}
